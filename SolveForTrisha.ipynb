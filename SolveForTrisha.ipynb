{
 "cells": [
  {
   "cell_type": "markdown",
   "metadata": {},
   "source": [
    "# SolveForTrisha, Single Problem Type, 100 Points, Easy\n",
    "\n",
    "### Problem Statement\n",
    "Trisha just finished her lesson on complex numbers. To test her knowledge, her professor gave her an assignment. Trisha should find the value of the following expression: \n",
    "\n",
    "![title](SolveForTrisha.png)\n",
    "\n",
    "In the formula, α1, α2, . . . αn-1 are all distinct n-th roots of unity other than 1.  \n",
    "\n",
    "You are given the n. Let X be the value of the above expression. If X is an integer, return X. Otherwise, return -1.  \n",
    "\n",
    "### Definition\n",
    "Class: SolveForTrisha  \n",
    "Method: findSolution  \n",
    "Parameters: integer  \n",
    "Returns: integer  \n",
    "Method signature: def findSolution(self, n):  \n",
    "\n",
    "### Limits\n",
    "Time limit (s): 2.000  \n",
    "Memory limit (MB): 256  \n",
    "\n",
    "### Notes\n",
    "- You can read more about roots of unity here: https://en.wikipedia.org/wiki/Root_of_unity  \n",
    "- You can read more about complex numbers here: https://en.wikipedia.org/wiki/Complex_number  \n",
    "\n",
    "### Constraints\n",
    "- n will be between 2 and 109, inclusive.  \n",
    "\n",
    "### Examples\n",
    "- 0)  \n",
    "2  \n",
    "Returns: 0  \n",
    "The only second root of unity other than 1 is -1. The formula is a product that consists of one term: 1 - (-1)2 = 0.  \n",
    "- 1)  \n",
    "3  \n",
    "Returns: 3  \n",
    "The third roots of unity are α0 = 1, α1 = cos(120) + i*sin(120), and α2 = cos(240) + i*sin(240), where all angles are in degrees. The expression (1 - α12) * (1 - α22) evaluates to exactly 3.  "
   ]
  },
  {
   "cell_type": "markdown",
   "metadata": {},
   "source": [
    "# Answer"
   ]
  },
  {
   "cell_type": "code",
   "execution_count": null,
   "metadata": {},
   "outputs": [],
   "source": []
  },
  {
   "cell_type": "code",
   "execution_count": null,
   "metadata": {},
   "outputs": [],
   "source": [
    "# Test Examples\n",
    "solveForTrisha = SolveForTrisha()\n",
    "\n",
    "print(solveForTrisha.findSolution())\n",
    "print(solveForTrisha.findSolution())"
   ]
  }
 ],
 "metadata": {
  "kernelspec": {
   "display_name": "Python 3",
   "language": "python",
   "name": "python3"
  },
  "language_info": {
   "codemirror_mode": {
    "name": "ipython",
    "version": 3
   },
   "file_extension": ".py",
   "mimetype": "text/x-python",
   "name": "python",
   "nbconvert_exporter": "python",
   "pygments_lexer": "ipython3",
   "version": "3.6.4"
  }
 },
 "nbformat": 4,
 "nbformat_minor": 2
}
