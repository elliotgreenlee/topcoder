{
 "cells": [
  {
   "cell_type": "markdown",
   "metadata": {},
   "source": [
    "# ShootingGame, Single Problem Type, 50 Points, Easy\n",
    "\n",
    "### Problem Statement\n",
    "Alice and Bob are playing a shooting game.\n",
    "\n",
    "The players take alternating turns, Alice goes first. In each turn the active player gets to take one shot at a target. Whoever hits the target first, wins the game.\n",
    "\n",
    "In any single shot Alice hits the target with probability pAlice, while Bob hits the target with probability pBob.\n",
    "\n",
    "You are given an p such that pAlice = p / 10^6. Compute and return the value of pBob for which both players have an equal chance of winning the game. If this is impossible, return -1 instead.\n",
    "\n",
    "### Definition\n",
    "Class: ShootingGame  \n",
    "Method: findProbability  \n",
    "Parameters: integer  \n",
    "Returns: float  \n",
    "Method signature: def findProbability(self, p):  \n",
    "\n",
    "### Limits\n",
    "Time limit (s): 2.000  \n",
    "Memory limit (MB): 256  \n",
    "\n",
    "### Notes\n",
    "Your answer will be accepted if the absolute error between your answer and the correct answer is less than 10-6.\n",
    "\n",
    "### Constraints\n",
    "p will be between 1 and 10^6, inclusive.\n",
    "\n",
    "### Examples\n",
    "- 0)  \n",
    "999997  \n",
    "Returns: -1.0  \n",
    "Alice almost certainly wins the game already with her first shot, regardless of how good Bob happens to be.  \n",
    "- 1)  \n",
    "400000  \n",
    "Returns: 0.6666666666666667  \n",
    "Each of Alice's shots has a 40% probability to hit the target. In order to have the same chance to win as Alice, Bob must be a much better marksman than she is.  \n",
    "\n"
   ]
  },
  {
   "cell_type": "markdown",
   "metadata": {},
   "source": [
    "# Answer\n",
    "\n",
    "$p$ is given  \n",
    "$\\mathit{pAlice} = p / 1000000.0$, the probability that Alice scores when shooting  \n",
    "$\\mathit{pBob} = ?$, the probability that Bob scores when shooting  \n",
    "\n",
    "After each single round of play, the probability of Alice having won and the probability of Bob having won must be equal. The probability of Alice scoring in the first round is equal to the probability that Alice scores when shooting. The probability of Bob scoring in the first round is the equal to the probability that Alice did not score times the probability that Bob scores when shooting. Setting these equal, since they must be equal, allows us to solve for pBob. \n",
    "\n",
    "We could stop here, but we verify by checking the second round. When set equal, it can be seen that each round simplifies to the first case. \n",
    "\n",
    "|        Person        |           Alice          |            Bob           |          Set Equal and Solve         |\n",
    "|:-----------------------:|:---------------------------:|:---------------------------:|:-----------------------------:|\n",
    "|        Round 1       |          $\\mathit{pAlice}$          |      $(1-\\mathit{pAlice})\\mathit{pBob}$      | $\\mathit{pBob} = \\frac{\\mathit{pAlice}}{1-\\mathit{pAlice}}$ |\n",
    "|        Round 2       | $(1-\\mathit{pAlice})(1-\\mathit{pBob})\\mathit{pAlice}$ | $(1-\\mathit{pAlice})^2(1-\\mathit{pBob})\\mathit{pBob}$ |                            |\n",
    "| Round 2 (simplified) |          $\\mathit{pAlice}$          |      $(1-\\mathit{pAlice})\\mathit{pBob}$      | $\\mathit{pBob} = \\frac{\\mathit{pAlice}}{1-\\mathit{pAlice}}$ |\n",
    "\n",
    "However, there is one remaining case. If the probability of Alice scoring is greater than 0.5, Bob will require the Herculean effort of scoring with a probability greater than 1.0 on his turn, which is not possible. Therefore, we can return -1.0 either when pAlice > 0.5, or when pBob > 1.0. \n"
   ]
  },
  {
   "cell_type": "code",
   "execution_count": 1,
   "metadata": {},
   "outputs": [],
   "source": [
    "class ShootingGame:\n",
    "    def findProbability(self, p):\n",
    "        pAlice = p / 1000000.0 # the probability of Alice scoring\n",
    "        pBob = pAlice / (1 - pAlice) # to equal Alice's chance of winning\n",
    "        \n",
    "        # Bob cannot score with a probability of greater than 1\n",
    "        if pBob > 1.0:\n",
    "            return -1.0\n",
    "        else:\n",
    "            return pBob"
   ]
  },
  {
   "cell_type": "code",
   "execution_count": 2,
   "metadata": {},
   "outputs": [
    {
     "name": "stdout",
     "output_type": "stream",
     "text": [
      "-1.0\n",
      "0.6666666666666667\n"
     ]
    }
   ],
   "source": [
    "# Test Examples\n",
    "shootingGame = ShootingGame()\n",
    "\n",
    "print(shootingGame.findProbability(999997))\n",
    "print(shootingGame.findProbability(400000))"
   ]
  },
  {
   "cell_type": "code",
   "execution_count": null,
   "metadata": {},
   "outputs": [],
   "source": []
  }
 ],
 "metadata": {
  "kernelspec": {
   "display_name": "Python 3",
   "language": "python",
   "name": "python3"
  },
  "language_info": {
   "codemirror_mode": {
    "name": "ipython",
    "version": 3
   },
   "file_extension": ".py",
   "mimetype": "text/x-python",
   "name": "python",
   "nbconvert_exporter": "python",
   "pygments_lexer": "ipython3",
   "version": "3.6.4"
  }
 },
 "nbformat": 4,
 "nbformat_minor": 2
}
